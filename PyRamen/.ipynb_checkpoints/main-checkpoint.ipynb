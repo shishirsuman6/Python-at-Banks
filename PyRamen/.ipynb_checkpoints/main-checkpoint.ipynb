{
 "cells": [
  {
   "cell_type": "code",
   "execution_count": null,
   "id": "a5e60722-a932-479e-a81f-efd458b822d4",
   "metadata": {},
   "outputs": [],
   "source": [
    "# -*- coding: utf-8 -*-\n",
    "\n",
    "\"\"\"\n",
    "PyRamen\n",
    "\n",
    "Create a python script to analyze your business's financial performance by cross-referencing your \n",
    "sales data with your internal menu data to figure out revenues and costs for the year.\n",
    "\n",
    "Read the Data:\n",
    "--------------\n",
    "\n",
    "Menu dataset is in this file: menu_data.csv\n",
    "filepath: \"../PyRamen/Resources/menu_data.csv\"\n",
    "This dataset is composed of columns: item,category,description,price,cost\n",
    "\n",
    "Sales dataset is in this file: sales_data.csv\n",
    "filepath: \"../PyRamen/Resources/sales_data.csv\"\n",
    "This dataset is composed of columns: Line_Item_ID, Date, Credit_Card_Number, Quantity, Menu_Item\n",
    "\n",
    "\n",
    "Manipulate the Data:\n",
    "--------------------\n",
    "\n",
    "Create a report dictionary to hold the future aggregated per-product results\n",
    "01-count: the total quantity for each ramen type\n",
    "02-revenue: the total revenue for each ramen type\n",
    "03-cogs: the total cost of goods sold for each ramen type\n",
    "04-profit: the total profit for each ramen type\n",
    "\n",
    "Write out the contents of the report dictionary to a text file. \n",
    "The report should output each ramen type as \n",
    "the keys and 01-count, 02-revenue, 03-cogs, and 04-profit metrics as the values for every ramen type.\n",
    "\"\"\"\n",
    "\n",
    "\n"
   ]
  }
 ],
 "metadata": {
  "kernelspec": {
   "display_name": "Python 3",
   "language": "python",
   "name": "python3"
  },
  "language_info": {
   "codemirror_mode": {
    "name": "ipython",
    "version": 3
   },
   "file_extension": ".py",
   "mimetype": "text/x-python",
   "name": "python",
   "nbconvert_exporter": "python",
   "pygments_lexer": "ipython3",
   "version": "3.7.10"
  }
 },
 "nbformat": 4,
 "nbformat_minor": 5
}
